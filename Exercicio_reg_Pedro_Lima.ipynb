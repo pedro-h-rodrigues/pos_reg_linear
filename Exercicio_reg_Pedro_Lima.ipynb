{
 "cells": [
  {
   "cell_type": "markdown",
   "id": "dried-illness",
   "metadata": {},
   "source": [
    "# Exercício de Regressão Linear\n",
    "\n",
    "Especialização em Inteligência Artificial Online - PUC Minas\n",
    "* Aluno: Pedro Henrique Rodrigues de Lima\n",
    "* Professor: Hugo de Paula\n",
    "\n",
    "O objetivo desta atividade é desenvolver um modelo de regressão linerar, relativamente simples, para prever a quantidade de óleo a ser comprada pelos habitantes de uma residência, de acordo com os seguinte variáveis:\n",
    "\n",
    "  * Isolamento: nível de isolamento térmico da casa em uma taxa de 1 a 10, sendo que 10 indica a máxima espessura do isolamento.\n",
    "  * Temperatura: temperatura ambiente externa média em cada casa no último ano. As medidas estão em graus Fahrenheit.\n",
    "  * Num_ocupantes: número total de pessoas vivendo na casa.\n",
    "  * Idade_media: idade média dos ocupantes da casa.\n",
    "  * Tamanho_casa: tamanho da casa em uma taxa variando de 1 a 8. Quanto maior o valor, maior a casa.\n",
    "  \n",
    " Após desenvolver o modelo, responderemos as seguintes perguntas: \n",
    " \n",
    " \n",
    "   1. Quais os atributos mais relevantes?\n",
    "   2. São diretamente relacionados ou inversamente relacionados?\n",
    "   3. Qual atributo não foi significativo para a construção do modelo?\n",
    "   4. Qual a quantidade de óleo necessária considerando a base de testes (base de dados \"PREVISÃO\"?\n"
   ]
  },
  {
   "cell_type": "markdown",
   "id": "integrated-workplace",
   "metadata": {},
   "source": [
    "## Importação das bibliotecas necessárias e leitura das bases de dados"
   ]
  },
  {
   "cell_type": "code",
   "execution_count": 1,
   "id": "cosmetic-liberty",
   "metadata": {},
   "outputs": [],
   "source": [
    "import pandas as pd\n",
    "import numpy as np\n",
    "import matplotlib.pyplot as plt\n",
    "from sklearn.model_selection import train_test_split, cross_val_score\n",
    "from sklearn.preprocessing import MinMaxScaler, PolynomialFeatures\n",
    "from sklearn.linear_model import LinearRegression\n",
    "from sklearn.metrics import r2_score, mean_squared_error"
   ]
  },
  {
   "cell_type": "code",
   "execution_count": 2,
   "id": "empirical-antenna",
   "metadata": {},
   "outputs": [],
   "source": [
    "caminho_dados = r'C:\\Users\\pedro\\OneDrive\\Pós\\9.Machine Learning\\Aula 4 - Regressão\\Exercicio Regressao\\Atividade - bases_regressao.xlsx'\n",
    "df_treino_teste = pd.read_excel(caminho_dados, sheet_name=\"BASE\")\n",
    "df_prev = pd.read_excel(caminho_dados, sheet_name=\"PREVISAO\")"
   ]
  },
  {
   "cell_type": "markdown",
   "id": "otherwise-adjustment",
   "metadata": {},
   "source": [
    "## Análise descritiva simples dos dados"
   ]
  },
  {
   "cell_type": "code",
   "execution_count": 3,
   "id": "coordinated-hurricane",
   "metadata": {},
   "outputs": [
    {
     "data": {
      "text/plain": [
       "(1218, 6)"
      ]
     },
     "execution_count": 3,
     "metadata": {},
     "output_type": "execute_result"
    }
   ],
   "source": [
    "df_treino_teste.shape"
   ]
  },
  {
   "cell_type": "code",
   "execution_count": 4,
   "id": "blocked-values",
   "metadata": {},
   "outputs": [
    {
     "data": {
      "text/plain": [
       "Isolamento          0\n",
       "Temperatura         0\n",
       "Num_ocupantes       0\n",
       "Idade_media         0\n",
       "Tamanho_casa        0\n",
       "Aquecimento_oleo    0\n",
       "dtype: int64"
      ]
     },
     "execution_count": 4,
     "metadata": {},
     "output_type": "execute_result"
    }
   ],
   "source": [
    "df_treino_teste.isnull().sum()"
   ]
  },
  {
   "cell_type": "code",
   "execution_count": 5,
   "id": "chief-trainer",
   "metadata": {},
   "outputs": [
    {
     "data": {
      "text/html": [
       "<div>\n",
       "<style scoped>\n",
       "    .dataframe tbody tr th:only-of-type {\n",
       "        vertical-align: middle;\n",
       "    }\n",
       "\n",
       "    .dataframe tbody tr th {\n",
       "        vertical-align: top;\n",
       "    }\n",
       "\n",
       "    .dataframe thead th {\n",
       "        text-align: right;\n",
       "    }\n",
       "</style>\n",
       "<table border=\"1\" class=\"dataframe\">\n",
       "  <thead>\n",
       "    <tr style=\"text-align: right;\">\n",
       "      <th></th>\n",
       "      <th>Isolamento</th>\n",
       "      <th>Temperatura</th>\n",
       "      <th>Num_ocupantes</th>\n",
       "      <th>Idade_media</th>\n",
       "      <th>Tamanho_casa</th>\n",
       "      <th>Aquecimento_oleo</th>\n",
       "    </tr>\n",
       "  </thead>\n",
       "  <tbody>\n",
       "    <tr>\n",
       "      <th>count</th>\n",
       "      <td>1218.000000</td>\n",
       "      <td>1218.000000</td>\n",
       "      <td>1218.000000</td>\n",
       "      <td>1218.000000</td>\n",
       "      <td>1218.000000</td>\n",
       "      <td>1218.000000</td>\n",
       "    </tr>\n",
       "    <tr>\n",
       "      <th>mean</th>\n",
       "      <td>6.214286</td>\n",
       "      <td>65.078818</td>\n",
       "      <td>3.113300</td>\n",
       "      <td>42.706404</td>\n",
       "      <td>4.649425</td>\n",
       "      <td>197.394089</td>\n",
       "    </tr>\n",
       "    <tr>\n",
       "      <th>std</th>\n",
       "      <td>2.768094</td>\n",
       "      <td>16.932425</td>\n",
       "      <td>1.690605</td>\n",
       "      <td>15.051137</td>\n",
       "      <td>2.321226</td>\n",
       "      <td>56.248267</td>\n",
       "    </tr>\n",
       "    <tr>\n",
       "      <th>min</th>\n",
       "      <td>2.000000</td>\n",
       "      <td>38.000000</td>\n",
       "      <td>1.000000</td>\n",
       "      <td>15.100000</td>\n",
       "      <td>1.000000</td>\n",
       "      <td>114.000000</td>\n",
       "    </tr>\n",
       "    <tr>\n",
       "      <th>25%</th>\n",
       "      <td>4.000000</td>\n",
       "      <td>49.000000</td>\n",
       "      <td>2.000000</td>\n",
       "      <td>29.700000</td>\n",
       "      <td>3.000000</td>\n",
       "      <td>148.250000</td>\n",
       "    </tr>\n",
       "    <tr>\n",
       "      <th>50%</th>\n",
       "      <td>6.000000</td>\n",
       "      <td>60.000000</td>\n",
       "      <td>3.000000</td>\n",
       "      <td>42.900000</td>\n",
       "      <td>5.000000</td>\n",
       "      <td>185.000000</td>\n",
       "    </tr>\n",
       "    <tr>\n",
       "      <th>75%</th>\n",
       "      <td>9.000000</td>\n",
       "      <td>81.000000</td>\n",
       "      <td>4.000000</td>\n",
       "      <td>55.600000</td>\n",
       "      <td>7.000000</td>\n",
       "      <td>253.000000</td>\n",
       "    </tr>\n",
       "    <tr>\n",
       "      <th>max</th>\n",
       "      <td>10.000000</td>\n",
       "      <td>90.000000</td>\n",
       "      <td>10.000000</td>\n",
       "      <td>72.200000</td>\n",
       "      <td>8.000000</td>\n",
       "      <td>301.000000</td>\n",
       "    </tr>\n",
       "  </tbody>\n",
       "</table>\n",
       "</div>"
      ],
      "text/plain": [
       "        Isolamento  Temperatura  Num_ocupantes  Idade_media  Tamanho_casa  \\\n",
       "count  1218.000000  1218.000000    1218.000000  1218.000000   1218.000000   \n",
       "mean      6.214286    65.078818       3.113300    42.706404      4.649425   \n",
       "std       2.768094    16.932425       1.690605    15.051137      2.321226   \n",
       "min       2.000000    38.000000       1.000000    15.100000      1.000000   \n",
       "25%       4.000000    49.000000       2.000000    29.700000      3.000000   \n",
       "50%       6.000000    60.000000       3.000000    42.900000      5.000000   \n",
       "75%       9.000000    81.000000       4.000000    55.600000      7.000000   \n",
       "max      10.000000    90.000000      10.000000    72.200000      8.000000   \n",
       "\n",
       "       Aquecimento_oleo  \n",
       "count       1218.000000  \n",
       "mean         197.394089  \n",
       "std           56.248267  \n",
       "min          114.000000  \n",
       "25%          148.250000  \n",
       "50%          185.000000  \n",
       "75%          253.000000  \n",
       "max          301.000000  "
      ]
     },
     "execution_count": 5,
     "metadata": {},
     "output_type": "execute_result"
    }
   ],
   "source": [
    "df_treino_teste.describe()"
   ]
  },
  {
   "cell_type": "code",
   "execution_count": 6,
   "id": "physical-coral",
   "metadata": {},
   "outputs": [
    {
     "data": {
      "text/html": [
       "<div>\n",
       "<style scoped>\n",
       "    .dataframe tbody tr th:only-of-type {\n",
       "        vertical-align: middle;\n",
       "    }\n",
       "\n",
       "    .dataframe tbody tr th {\n",
       "        vertical-align: top;\n",
       "    }\n",
       "\n",
       "    .dataframe thead th {\n",
       "        text-align: right;\n",
       "    }\n",
       "</style>\n",
       "<table border=\"1\" class=\"dataframe\">\n",
       "  <thead>\n",
       "    <tr style=\"text-align: right;\">\n",
       "      <th></th>\n",
       "      <th>Isolamento</th>\n",
       "      <th>Temperatura</th>\n",
       "      <th>Num_ocupantes</th>\n",
       "      <th>Idade_media</th>\n",
       "      <th>Tamanho_casa</th>\n",
       "      <th>Aquecimento_oleo</th>\n",
       "    </tr>\n",
       "  </thead>\n",
       "  <tbody>\n",
       "    <tr>\n",
       "      <th>654</th>\n",
       "      <td>10</td>\n",
       "      <td>60</td>\n",
       "      <td>1</td>\n",
       "      <td>65.9</td>\n",
       "      <td>6</td>\n",
       "      <td>288</td>\n",
       "    </tr>\n",
       "    <tr>\n",
       "      <th>752</th>\n",
       "      <td>10</td>\n",
       "      <td>39</td>\n",
       "      <td>1</td>\n",
       "      <td>42.3</td>\n",
       "      <td>8</td>\n",
       "      <td>183</td>\n",
       "    </tr>\n",
       "    <tr>\n",
       "      <th>747</th>\n",
       "      <td>4</td>\n",
       "      <td>90</td>\n",
       "      <td>2</td>\n",
       "      <td>32.5</td>\n",
       "      <td>6</td>\n",
       "      <td>153</td>\n",
       "    </tr>\n",
       "    <tr>\n",
       "      <th>69</th>\n",
       "      <td>2</td>\n",
       "      <td>39</td>\n",
       "      <td>5</td>\n",
       "      <td>41.1</td>\n",
       "      <td>4</td>\n",
       "      <td>181</td>\n",
       "    </tr>\n",
       "    <tr>\n",
       "      <th>272</th>\n",
       "      <td>2</td>\n",
       "      <td>76</td>\n",
       "      <td>3</td>\n",
       "      <td>36.6</td>\n",
       "      <td>8</td>\n",
       "      <td>163</td>\n",
       "    </tr>\n",
       "    <tr>\n",
       "      <th>966</th>\n",
       "      <td>3</td>\n",
       "      <td>77</td>\n",
       "      <td>2</td>\n",
       "      <td>21.3</td>\n",
       "      <td>4</td>\n",
       "      <td>132</td>\n",
       "    </tr>\n",
       "    <tr>\n",
       "      <th>635</th>\n",
       "      <td>10</td>\n",
       "      <td>47</td>\n",
       "      <td>4</td>\n",
       "      <td>43.0</td>\n",
       "      <td>7</td>\n",
       "      <td>190</td>\n",
       "    </tr>\n",
       "    <tr>\n",
       "      <th>1188</th>\n",
       "      <td>2</td>\n",
       "      <td>86</td>\n",
       "      <td>2</td>\n",
       "      <td>18.7</td>\n",
       "      <td>4</td>\n",
       "      <td>118</td>\n",
       "    </tr>\n",
       "    <tr>\n",
       "      <th>137</th>\n",
       "      <td>4</td>\n",
       "      <td>85</td>\n",
       "      <td>2</td>\n",
       "      <td>28.0</td>\n",
       "      <td>5</td>\n",
       "      <td>146</td>\n",
       "    </tr>\n",
       "    <tr>\n",
       "      <th>562</th>\n",
       "      <td>5</td>\n",
       "      <td>90</td>\n",
       "      <td>4</td>\n",
       "      <td>23.1</td>\n",
       "      <td>8</td>\n",
       "      <td>134</td>\n",
       "    </tr>\n",
       "  </tbody>\n",
       "</table>\n",
       "</div>"
      ],
      "text/plain": [
       "      Isolamento  Temperatura  Num_ocupantes  Idade_media  Tamanho_casa  \\\n",
       "654           10           60              1         65.9             6   \n",
       "752           10           39              1         42.3             8   \n",
       "747            4           90              2         32.5             6   \n",
       "69             2           39              5         41.1             4   \n",
       "272            2           76              3         36.6             8   \n",
       "966            3           77              2         21.3             4   \n",
       "635           10           47              4         43.0             7   \n",
       "1188           2           86              2         18.7             4   \n",
       "137            4           85              2         28.0             5   \n",
       "562            5           90              4         23.1             8   \n",
       "\n",
       "      Aquecimento_oleo  \n",
       "654                288  \n",
       "752                183  \n",
       "747                153  \n",
       "69                 181  \n",
       "272                163  \n",
       "966                132  \n",
       "635                190  \n",
       "1188               118  \n",
       "137                146  \n",
       "562                134  "
      ]
     },
     "execution_count": 6,
     "metadata": {},
     "output_type": "execute_result"
    }
   ],
   "source": [
    "df_treino_teste.sample(10)"
   ]
  },
  {
   "cell_type": "markdown",
   "id": "republican-snowboard",
   "metadata": {},
   "source": [
    "## Treinando modelo de regressão linear"
   ]
  },
  {
   "cell_type": "code",
   "execution_count": 7,
   "id": "worst-ceremony",
   "metadata": {},
   "outputs": [],
   "source": [
    "X = df_treino_teste.drop('Aquecimento_oleo', axis = 1)\n",
    "y = df_treino_teste['Aquecimento_oleo']"
   ]
  },
  {
   "cell_type": "code",
   "execution_count": 8,
   "id": "objective-premium",
   "metadata": {},
   "outputs": [],
   "source": [
    "# Para efeito de previsão da varíavel alvo, não seria necessária a normalização, porém ela é necessária\n",
    "# para conseguirmos comparar a importância de cada feature através dos seus coeficientes.\n",
    "X = MinMaxScaler().fit_transform(X)"
   ]
  },
  {
   "cell_type": "markdown",
   "id": "retained-cassette",
   "metadata": {},
   "source": [
    "### Avaliando performance com R2 e cross validation"
   ]
  },
  {
   "cell_type": "code",
   "execution_count": 9,
   "id": "acknowledged-admission",
   "metadata": {},
   "outputs": [
    {
     "name": "stdout",
     "output_type": "stream",
     "text": [
      "Coeficiente R2 (maior melhor) na base de treino: 0.82\n"
     ]
    }
   ],
   "source": [
    "lr = LinearRegression()\n",
    "lr.fit(X,y)\n",
    "prediction = lr.predict(X)\n",
    "r2 = r2_score(y,prediction)\n",
    "print(\"Coeficiente R2 (maior melhor) na base de treino: {:.2f}\".format(r2))\n"
   ]
  },
  {
   "cell_type": "code",
   "execution_count": 10,
   "id": "headed-cooper",
   "metadata": {},
   "outputs": [
    {
     "name": "stdout",
     "output_type": "stream",
     "text": [
      "Coeficiente R2 (maior melhor) com cross validation de 10 folds: 0.81\n"
     ]
    }
   ],
   "source": [
    "lr_cv = LinearRegression()\n",
    "r2s = cross_val_score(lr_cv,X,y,cv = 10,scoring = 'r2')\n",
    "r2 = np.mean(r2s)\n",
    "r2\n",
    "print(\"Coeficiente R2 (maior melhor) com cross validation de 10 folds: {:.2f}\".format(r2))"
   ]
  },
  {
   "cell_type": "markdown",
   "id": "persistent-stopping",
   "metadata": {},
   "source": [
    "### Avaliando performance com RMSE e cross validation"
   ]
  },
  {
   "cell_type": "code",
   "execution_count": 11,
   "id": "corresponding-alexander",
   "metadata": {},
   "outputs": [
    {
     "name": "stdout",
     "output_type": "stream",
     "text": [
      "Raiz do erro quadrático médio (RMSE, menor meelhor) na base de treino: 23.90\n"
     ]
    }
   ],
   "source": [
    "lr = LinearRegression()\n",
    "lr.fit(X,y)\n",
    "prediction = lr.predict(X)\n",
    "mse = mean_squared_error(y, prediction)\n",
    "rmse = np.sqrt(np.abs(mse))\n",
    "print(\"Raiz do erro quadrático médio (RMSE, menor meelhor) na base de treino: {:.2f}\".format(rmse))"
   ]
  },
  {
   "cell_type": "code",
   "execution_count": 12,
   "id": "accurate-praise",
   "metadata": {},
   "outputs": [
    {
     "name": "stdout",
     "output_type": "stream",
     "text": [
      "Raiz do erro médio quadrático (RMSE, menor meelhor) com cross validation de 10 folds: 23.96\n"
     ]
    }
   ],
   "source": [
    "lr_cv = LinearRegression()\n",
    "rmse = cross_val_score(lr_cv,X,y,cv =10,scoring = 'neg_root_mean_squared_error')\n",
    "-np.mean(rmse)\n",
    "print(\"Raiz do erro médio quadrático (RMSE, menor meelhor) com cross validation de 10 folds: {:.2f}\".format(-np.mean(rmse)))"
   ]
  },
  {
   "cell_type": "markdown",
   "id": "increasing-balance",
   "metadata": {},
   "source": [
    "### Comentários sobre a performace do modelo\n",
    "\n",
    "* O modelo não está apresentando muito overfitting, tendo em vista que as métricas de avaliação de performance, das previsões feitas no modelo de treino e de testes estão muito próximas.\n",
    "\n",
    "* A raiz do nosso erro quadrático médio (RMSE) foi de 23.96, o que não parece ser muito ruim, tendo em vista que o desvio padrão da nossa variável alvo (Aquecimento_oleo) é de 56.25 e que seus valores estão distribuídos entre 114.00 e 301.00."
   ]
  },
  {
   "cell_type": "markdown",
   "id": "lined-metro",
   "metadata": {},
   "source": [
    "### Análise dos pesos atribuídos a cada uma das features\n"
   ]
  },
  {
   "cell_type": "code",
   "execution_count": 13,
   "id": "adopted-invalid",
   "metadata": {},
   "outputs": [
    {
     "name": "stdout",
     "output_type": "stream",
     "text": [
      "Descrição do modelo: \n",
      "w: ['26.60', '-45.24', '-2.42', '112.25', '22.20']  b: 141.66\n"
     ]
    }
   ],
   "source": [
    "lr = LinearRegression()\n",
    "lr.fit(X,y)\n",
    "print(\"Descrição do modelo: \")\n",
    "s = [\"{0:0.2f}\".format(v) for v in lr.coef_]\n",
    "print(\"w: {}  b: {:.2f}\".format(s, lr.intercept_))"
   ]
  },
  {
   "cell_type": "code",
   "execution_count": 14,
   "id": "responsible-salem",
   "metadata": {},
   "outputs": [],
   "source": [
    "features = df_treino_teste.columns[0:-1]"
   ]
  },
  {
   "cell_type": "code",
   "execution_count": 15,
   "id": "filled-adolescent",
   "metadata": {},
   "outputs": [
    {
     "data": {
      "text/plain": [
       "{'Isolamento': '26.60',\n",
       " 'Temperatura': '-45.24',\n",
       " 'Num_ocupantes': '-2.42',\n",
       " 'Idade_media': '112.25',\n",
       " 'Tamanho_casa': '22.20'}"
      ]
     },
     "execution_count": 15,
     "metadata": {},
     "output_type": "execute_result"
    }
   ],
   "source": [
    "coefs_dict = {}\n",
    "\n",
    "for i in range(len(s)):\n",
    "    coefs_dict[features[i]] = s[i]\n",
    "    \n",
    "coefs_dict"
   ]
  },
  {
   "cell_type": "markdown",
   "id": "upper-jamaica",
   "metadata": {},
   "source": [
    "   1. Quais os atributos mais relevantes?: \n",
    "   *Os atributos mais relevantes são a idade média dos ocupantes e a temperatura dentro da casa.*\n",
    "   \n",
    "   \n",
    "   \n",
    "   \n",
    "   2. São diretamente relacionados ou inversamente relacionados? \n",
    "   \n",
    "   *A temperatura é inversamente proporcial, ou seja, quanto menor a temperatura, maior o consumo de aquecedores, o que faz sentido. Aparentemente o número de ocupantes também é inversamente relacionado, porém isso provavelmente se deve a algum ruído, já que não faria muito sentido essa variável ser inversamente proporcional, e o seu peso no modelo é bem baixo.*\n",
    "   \n",
    "   \n",
    "   \n",
    "   \n",
    "   3. Qual atributo não foi significativo para a construção do modelo?\n",
    "   \n",
    "   *O número de ocupantes, pelos motivos explicados no item 2 acima* "
   ]
  },
  {
   "cell_type": "markdown",
   "id": "extended-recognition",
   "metadata": {},
   "source": [
    "## Estimativa da demanda de óleo, considerando a base de previsão"
   ]
  },
  {
   "cell_type": "code",
   "execution_count": 16,
   "id": "nuclear-february",
   "metadata": {},
   "outputs": [
    {
     "data": {
      "text/html": [
       "<div>\n",
       "<style scoped>\n",
       "    .dataframe tbody tr th:only-of-type {\n",
       "        vertical-align: middle;\n",
       "    }\n",
       "\n",
       "    .dataframe tbody tr th {\n",
       "        vertical-align: top;\n",
       "    }\n",
       "\n",
       "    .dataframe thead th {\n",
       "        text-align: right;\n",
       "    }\n",
       "</style>\n",
       "<table border=\"1\" class=\"dataframe\">\n",
       "  <thead>\n",
       "    <tr style=\"text-align: right;\">\n",
       "      <th></th>\n",
       "      <th>Isolamento</th>\n",
       "      <th>Temperatura</th>\n",
       "      <th>Num_ocupantes</th>\n",
       "      <th>Idade_media</th>\n",
       "      <th>Tamanho_casa</th>\n",
       "    </tr>\n",
       "  </thead>\n",
       "  <tbody>\n",
       "    <tr>\n",
       "      <th>count</th>\n",
       "      <td>42650.000000</td>\n",
       "      <td>42650.000000</td>\n",
       "      <td>42650.000000</td>\n",
       "      <td>42650.000000</td>\n",
       "      <td>42650.000000</td>\n",
       "    </tr>\n",
       "    <tr>\n",
       "      <th>mean</th>\n",
       "      <td>5.989004</td>\n",
       "      <td>63.962087</td>\n",
       "      <td>5.489285</td>\n",
       "      <td>44.040131</td>\n",
       "      <td>4.495193</td>\n",
       "    </tr>\n",
       "    <tr>\n",
       "      <th>std</th>\n",
       "      <td>2.575511</td>\n",
       "      <td>15.313351</td>\n",
       "      <td>2.874612</td>\n",
       "      <td>16.736901</td>\n",
       "      <td>2.290911</td>\n",
       "    </tr>\n",
       "    <tr>\n",
       "      <th>min</th>\n",
       "      <td>2.000000</td>\n",
       "      <td>38.000000</td>\n",
       "      <td>1.000000</td>\n",
       "      <td>15.000000</td>\n",
       "      <td>1.000000</td>\n",
       "    </tr>\n",
       "    <tr>\n",
       "      <th>25%</th>\n",
       "      <td>4.000000</td>\n",
       "      <td>51.000000</td>\n",
       "      <td>3.000000</td>\n",
       "      <td>29.500000</td>\n",
       "      <td>3.000000</td>\n",
       "    </tr>\n",
       "    <tr>\n",
       "      <th>50%</th>\n",
       "      <td>6.000000</td>\n",
       "      <td>64.000000</td>\n",
       "      <td>5.000000</td>\n",
       "      <td>44.100000</td>\n",
       "      <td>4.000000</td>\n",
       "    </tr>\n",
       "    <tr>\n",
       "      <th>75%</th>\n",
       "      <td>8.000000</td>\n",
       "      <td>77.000000</td>\n",
       "      <td>8.000000</td>\n",
       "      <td>58.600000</td>\n",
       "      <td>6.000000</td>\n",
       "    </tr>\n",
       "    <tr>\n",
       "      <th>max</th>\n",
       "      <td>10.000000</td>\n",
       "      <td>90.000000</td>\n",
       "      <td>10.000000</td>\n",
       "      <td>73.000000</td>\n",
       "      <td>8.000000</td>\n",
       "    </tr>\n",
       "  </tbody>\n",
       "</table>\n",
       "</div>"
      ],
      "text/plain": [
       "         Isolamento   Temperatura  Num_ocupantes   Idade_media  Tamanho_casa\n",
       "count  42650.000000  42650.000000   42650.000000  42650.000000  42650.000000\n",
       "mean       5.989004     63.962087       5.489285     44.040131      4.495193\n",
       "std        2.575511     15.313351       2.874612     16.736901      2.290911\n",
       "min        2.000000     38.000000       1.000000     15.000000      1.000000\n",
       "25%        4.000000     51.000000       3.000000     29.500000      3.000000\n",
       "50%        6.000000     64.000000       5.000000     44.100000      4.000000\n",
       "75%        8.000000     77.000000       8.000000     58.600000      6.000000\n",
       "max       10.000000     90.000000      10.000000     73.000000      8.000000"
      ]
     },
     "execution_count": 16,
     "metadata": {},
     "output_type": "execute_result"
    }
   ],
   "source": [
    "df_prev.describe()"
   ]
  },
  {
   "cell_type": "markdown",
   "id": "urban-activation",
   "metadata": {},
   "source": [
    "As distribuições das duas bases estão relativamente parecidas, então não há problema em usar o modelo treinado na base de treino, para fazer previsões na base de testes."
   ]
  },
  {
   "cell_type": "code",
   "execution_count": 17,
   "id": "later-cliff",
   "metadata": {},
   "outputs": [],
   "source": [
    "X_test = MinMaxScaler().fit_transform(df_prev)\n",
    "df_prev['Prev_aquecimento_oleo'] = lr.predict(X_test)"
   ]
  },
  {
   "cell_type": "code",
   "execution_count": 18,
   "id": "electric-average",
   "metadata": {},
   "outputs": [
    {
     "name": "stdout",
     "output_type": "stream",
     "text": [
      "Total de óleo de aquecimento previsto: 8462647.04\n"
     ]
    }
   ],
   "source": [
    "total_oil = df_prev['Prev_aquecimento_oleo'].sum()\n",
    "print(\"Total de óleo de aquecimento previsto: {:.2f}\".format(total_oil))"
   ]
  }
 ],
 "metadata": {
  "kernelspec": {
   "display_name": "Python 3",
   "language": "python",
   "name": "python3"
  },
  "language_info": {
   "codemirror_mode": {
    "name": "ipython",
    "version": 3
   },
   "file_extension": ".py",
   "mimetype": "text/x-python",
   "name": "python",
   "nbconvert_exporter": "python",
   "pygments_lexer": "ipython3",
   "version": "3.8.8"
  }
 },
 "nbformat": 4,
 "nbformat_minor": 5
}
